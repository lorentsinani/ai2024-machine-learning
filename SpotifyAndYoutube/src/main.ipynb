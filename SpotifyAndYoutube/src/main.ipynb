{
 "cells": [
  {
   "cell_type": "code",
   "execution_count": 1,
   "id": "2cad0dbe-6995-4033-b21e-30f2e08f3533",
   "metadata": {
    "ExecuteTime": {
     "end_time": "2024-01-19T14:00:45.772401Z",
     "start_time": "2024-01-19T14:00:44.602347Z"
    }
   },
   "outputs": [],
   "source": [
    "import pandas as pd\n",
    "from sklearn.model_selection import train_test_split\n",
    "from sklearn.preprocessing import StandardScaler, LabelEncoder\n",
    "from lightgbm import LGBMRegressor\n",
    "from xgboost import XGBRegressor\n",
    "from catboost import CatBoostRegressor\n",
    "from sklearn.metrics import mean_absolute_error, mean_squared_error, r2_score\n",
    "\n",
    "# Load the dataset\n",
    "df = pd.read_csv('Spotify_Youtube.csv')"
   ]
  },
  {
   "cell_type": "code",
   "execution_count": 2,
   "outputs": [
    {
     "data": {
      "text/plain": "     Artist                                        Url_spotify  \\\n0  Gorillaz  https://open.spotify.com/artist/3AA28KZvwAUcZu...   \n1  Gorillaz  https://open.spotify.com/artist/3AA28KZvwAUcZu...   \n2  Gorillaz  https://open.spotify.com/artist/3AA28KZvwAUcZu...   \n3  Gorillaz  https://open.spotify.com/artist/3AA28KZvwAUcZu...   \n4  Gorillaz  https://open.spotify.com/artist/3AA28KZvwAUcZu...   \n\n                                           Track  \\\n0                                 Feel Good Inc.   \n1                                Rhinestone Eyes   \n2  New Gold (feat. Tame Impala and Bootie Brown)   \n3                             On Melancholy Hill   \n4                                 Clint Eastwood   \n\n                                           Album Album_type  \\\n0                                     Demon Days      album   \n1                                  Plastic Beach      album   \n2  New Gold (feat. Tame Impala and Bootie Brown)     single   \n3                                  Plastic Beach      album   \n4                                       Gorillaz      album   \n\n                                    Uri  Danceability  Energy   Key  Loudness  \\\n0  spotify:track:0d28khcov6AiegSCpG5TuT         0.818   0.705   6.0    -6.679   \n1  spotify:track:1foMv2HQwfQ2vntFf9HFeG         0.676   0.703   8.0    -5.815   \n2  spotify:track:64dLd6rVqDLtkXFYrEUHIU         0.695   0.923   1.0    -3.930   \n3  spotify:track:0q6LuUqGLUiCPP1cbdwFs3         0.689   0.739   2.0    -5.810   \n4  spotify:track:7yMiX7n9SBvadzox8T5jzT         0.663   0.694  10.0    -8.627   \n\n   ...                                  Url_youtube  \\\n0  ...  https://www.youtube.com/watch?v=HyHNuVaZJ-k   \n1  ...  https://www.youtube.com/watch?v=yYDmaexVHic   \n2  ...  https://www.youtube.com/watch?v=qJa-VFwPpYA   \n3  ...  https://www.youtube.com/watch?v=04mfKJWDSzI   \n4  ...  https://www.youtube.com/watch?v=1V_xRb0x9aw   \n\n                                               Title   Channel        Views  \\\n0         Gorillaz - Feel Good Inc. (Official Video)  Gorillaz  693555221.0   \n1  Gorillaz - Rhinestone Eyes [Storyboard Film] (...  Gorillaz   72011645.0   \n2  Gorillaz - New Gold ft. Tame Impala & Bootie B...  Gorillaz    8435055.0   \n3     Gorillaz - On Melancholy Hill (Official Video)  Gorillaz  211754952.0   \n4         Gorillaz - Clint Eastwood (Official Video)  Gorillaz  618480958.0   \n\n       Likes  Comments                                        Description  \\\n0  6220896.0  169907.0  Official HD Video for Gorillaz' fantastic trac...   \n1  1079128.0   31003.0  The official video for Gorillaz - Rhinestone E...   \n2   282142.0    7399.0  Gorillaz - New Gold ft. Tame Impala & Bootie B...   \n3  1788577.0   55229.0  Follow Gorillaz online:\\nhttp://gorillaz.com \\...   \n4  6197318.0  155930.0  The official music video for Gorillaz - Clint ...   \n\n  Licensed official_video        Stream  \n0     True           True  1.040235e+09  \n1     True           True  3.100837e+08  \n2     True           True  6.306347e+07  \n3     True           True  4.346636e+08  \n4     True           True  6.172597e+08  \n\n[5 rows x 27 columns]",
      "text/html": "<div>\n<style scoped>\n    .dataframe tbody tr th:only-of-type {\n        vertical-align: middle;\n    }\n\n    .dataframe tbody tr th {\n        vertical-align: top;\n    }\n\n    .dataframe thead th {\n        text-align: right;\n    }\n</style>\n<table border=\"1\" class=\"dataframe\">\n  <thead>\n    <tr style=\"text-align: right;\">\n      <th></th>\n      <th>Artist</th>\n      <th>Url_spotify</th>\n      <th>Track</th>\n      <th>Album</th>\n      <th>Album_type</th>\n      <th>Uri</th>\n      <th>Danceability</th>\n      <th>Energy</th>\n      <th>Key</th>\n      <th>Loudness</th>\n      <th>...</th>\n      <th>Url_youtube</th>\n      <th>Title</th>\n      <th>Channel</th>\n      <th>Views</th>\n      <th>Likes</th>\n      <th>Comments</th>\n      <th>Description</th>\n      <th>Licensed</th>\n      <th>official_video</th>\n      <th>Stream</th>\n    </tr>\n  </thead>\n  <tbody>\n    <tr>\n      <th>0</th>\n      <td>Gorillaz</td>\n      <td>https://open.spotify.com/artist/3AA28KZvwAUcZu...</td>\n      <td>Feel Good Inc.</td>\n      <td>Demon Days</td>\n      <td>album</td>\n      <td>spotify:track:0d28khcov6AiegSCpG5TuT</td>\n      <td>0.818</td>\n      <td>0.705</td>\n      <td>6.0</td>\n      <td>-6.679</td>\n      <td>...</td>\n      <td>https://www.youtube.com/watch?v=HyHNuVaZJ-k</td>\n      <td>Gorillaz - Feel Good Inc. (Official Video)</td>\n      <td>Gorillaz</td>\n      <td>693555221.0</td>\n      <td>6220896.0</td>\n      <td>169907.0</td>\n      <td>Official HD Video for Gorillaz' fantastic trac...</td>\n      <td>True</td>\n      <td>True</td>\n      <td>1.040235e+09</td>\n    </tr>\n    <tr>\n      <th>1</th>\n      <td>Gorillaz</td>\n      <td>https://open.spotify.com/artist/3AA28KZvwAUcZu...</td>\n      <td>Rhinestone Eyes</td>\n      <td>Plastic Beach</td>\n      <td>album</td>\n      <td>spotify:track:1foMv2HQwfQ2vntFf9HFeG</td>\n      <td>0.676</td>\n      <td>0.703</td>\n      <td>8.0</td>\n      <td>-5.815</td>\n      <td>...</td>\n      <td>https://www.youtube.com/watch?v=yYDmaexVHic</td>\n      <td>Gorillaz - Rhinestone Eyes [Storyboard Film] (...</td>\n      <td>Gorillaz</td>\n      <td>72011645.0</td>\n      <td>1079128.0</td>\n      <td>31003.0</td>\n      <td>The official video for Gorillaz - Rhinestone E...</td>\n      <td>True</td>\n      <td>True</td>\n      <td>3.100837e+08</td>\n    </tr>\n    <tr>\n      <th>2</th>\n      <td>Gorillaz</td>\n      <td>https://open.spotify.com/artist/3AA28KZvwAUcZu...</td>\n      <td>New Gold (feat. Tame Impala and Bootie Brown)</td>\n      <td>New Gold (feat. Tame Impala and Bootie Brown)</td>\n      <td>single</td>\n      <td>spotify:track:64dLd6rVqDLtkXFYrEUHIU</td>\n      <td>0.695</td>\n      <td>0.923</td>\n      <td>1.0</td>\n      <td>-3.930</td>\n      <td>...</td>\n      <td>https://www.youtube.com/watch?v=qJa-VFwPpYA</td>\n      <td>Gorillaz - New Gold ft. Tame Impala &amp; Bootie B...</td>\n      <td>Gorillaz</td>\n      <td>8435055.0</td>\n      <td>282142.0</td>\n      <td>7399.0</td>\n      <td>Gorillaz - New Gold ft. Tame Impala &amp; Bootie B...</td>\n      <td>True</td>\n      <td>True</td>\n      <td>6.306347e+07</td>\n    </tr>\n    <tr>\n      <th>3</th>\n      <td>Gorillaz</td>\n      <td>https://open.spotify.com/artist/3AA28KZvwAUcZu...</td>\n      <td>On Melancholy Hill</td>\n      <td>Plastic Beach</td>\n      <td>album</td>\n      <td>spotify:track:0q6LuUqGLUiCPP1cbdwFs3</td>\n      <td>0.689</td>\n      <td>0.739</td>\n      <td>2.0</td>\n      <td>-5.810</td>\n      <td>...</td>\n      <td>https://www.youtube.com/watch?v=04mfKJWDSzI</td>\n      <td>Gorillaz - On Melancholy Hill (Official Video)</td>\n      <td>Gorillaz</td>\n      <td>211754952.0</td>\n      <td>1788577.0</td>\n      <td>55229.0</td>\n      <td>Follow Gorillaz online:\\nhttp://gorillaz.com \\...</td>\n      <td>True</td>\n      <td>True</td>\n      <td>4.346636e+08</td>\n    </tr>\n    <tr>\n      <th>4</th>\n      <td>Gorillaz</td>\n      <td>https://open.spotify.com/artist/3AA28KZvwAUcZu...</td>\n      <td>Clint Eastwood</td>\n      <td>Gorillaz</td>\n      <td>album</td>\n      <td>spotify:track:7yMiX7n9SBvadzox8T5jzT</td>\n      <td>0.663</td>\n      <td>0.694</td>\n      <td>10.0</td>\n      <td>-8.627</td>\n      <td>...</td>\n      <td>https://www.youtube.com/watch?v=1V_xRb0x9aw</td>\n      <td>Gorillaz - Clint Eastwood (Official Video)</td>\n      <td>Gorillaz</td>\n      <td>618480958.0</td>\n      <td>6197318.0</td>\n      <td>155930.0</td>\n      <td>The official music video for Gorillaz - Clint ...</td>\n      <td>True</td>\n      <td>True</td>\n      <td>6.172597e+08</td>\n    </tr>\n  </tbody>\n</table>\n<p>5 rows × 27 columns</p>\n</div>"
     },
     "execution_count": 2,
     "metadata": {},
     "output_type": "execute_result"
    }
   ],
   "source": [
    "# Top rows of the dataset \n",
    "df.head()"
   ],
   "metadata": {
    "collapsed": false,
    "ExecuteTime": {
     "end_time": "2024-01-19T14:00:45.785095Z",
     "start_time": "2024-01-19T14:00:45.767953Z"
    }
   },
   "id": "11112df87f1af123"
  },
  {
   "cell_type": "code",
   "execution_count": 3,
   "outputs": [
    {
     "name": "stdout",
     "output_type": "stream",
     "text": [
      "<class 'pandas.core.frame.DataFrame'>\n",
      "RangeIndex: 20718 entries, 0 to 20717\n",
      "Data columns (total 27 columns):\n",
      " #   Column            Non-Null Count  Dtype  \n",
      "---  ------            --------------  -----  \n",
      " 0   Artist            20718 non-null  object \n",
      " 1   Url_spotify       20718 non-null  object \n",
      " 2   Track             20718 non-null  object \n",
      " 3   Album             20718 non-null  object \n",
      " 4   Album_type        20718 non-null  object \n",
      " 5   Uri               20718 non-null  object \n",
      " 6   Danceability      20716 non-null  float64\n",
      " 7   Energy            20716 non-null  float64\n",
      " 8   Key               20716 non-null  float64\n",
      " 9   Loudness          20716 non-null  float64\n",
      " 10  Speechiness       20716 non-null  float64\n",
      " 11  Acousticness      20716 non-null  float64\n",
      " 12  Instrumentalness  20716 non-null  float64\n",
      " 13  Liveness          20716 non-null  float64\n",
      " 14  Valence           20716 non-null  float64\n",
      " 15  Tempo             20716 non-null  float64\n",
      " 16  Duration_ms       20716 non-null  float64\n",
      " 17  Url_youtube       20248 non-null  object \n",
      " 18  Title             20248 non-null  object \n",
      " 19  Channel           20248 non-null  object \n",
      " 20  Views             20248 non-null  float64\n",
      " 21  Likes             20177 non-null  float64\n",
      " 22  Comments          20149 non-null  float64\n",
      " 23  Description       19842 non-null  object \n",
      " 24  Licensed          20248 non-null  object \n",
      " 25  official_video    20248 non-null  object \n",
      " 26  Stream            20142 non-null  float64\n",
      "dtypes: float64(15), object(12)\n",
      "memory usage: 4.3+ MB\n"
     ]
    }
   ],
   "source": [
    "# Data types\n",
    "df.info()"
   ],
   "metadata": {
    "collapsed": false,
    "ExecuteTime": {
     "end_time": "2024-01-19T14:00:45.832476Z",
     "start_time": "2024-01-19T14:00:45.787735Z"
    }
   },
   "id": "62b1977ebc270d94"
  },
  {
   "cell_type": "code",
   "execution_count": 4,
   "outputs": [
    {
     "name": "stdout",
     "output_type": "stream",
     "text": [
      "Artist               object\n",
      "Url_spotify          object\n",
      "Track                object\n",
      "Album                object\n",
      "Album_type           object\n",
      "Uri                  object\n",
      "Danceability        float64\n",
      "Energy              float64\n",
      "Key                 float64\n",
      "Loudness            float64\n",
      "Speechiness         float64\n",
      "Acousticness        float64\n",
      "Instrumentalness    float64\n",
      "Liveness            float64\n",
      "Valence             float64\n",
      "Tempo               float64\n",
      "Duration_ms         float64\n",
      "Url_youtube          object\n",
      "Title                object\n",
      "Channel              object\n",
      "Views               float64\n",
      "Likes               float64\n",
      "Comments            float64\n",
      "Description          object\n",
      "Licensed             object\n",
      "official_video       object\n",
      "Stream              float64\n",
      "dtype: object\n"
     ]
    }
   ],
   "source": [
    "print(df.dtypes)"
   ],
   "metadata": {
    "collapsed": false,
    "ExecuteTime": {
     "end_time": "2024-01-19T14:00:45.885348Z",
     "start_time": "2024-01-19T14:00:45.800720Z"
    }
   },
   "id": "48fb67f411996337"
  },
  {
   "cell_type": "code",
   "execution_count": 5,
   "outputs": [
    {
     "name": "stdout",
     "output_type": "stream",
     "text": [
      "       Danceability        Energy           Key      Loudness   Speechiness  \\\n",
      "count  20716.000000  20716.000000  20716.000000  20716.000000  20716.000000   \n",
      "mean       0.619777      0.635250      5.300348     -7.671680      0.096456   \n",
      "std        0.165272      0.214147      3.576449      4.632749      0.111960   \n",
      "min        0.000000      0.000020      0.000000    -46.251000      0.000000   \n",
      "25%        0.518000      0.507000      2.000000     -8.858000      0.035700   \n",
      "50%        0.637000      0.666000      5.000000     -6.536000      0.050500   \n",
      "75%        0.740250      0.798000      8.000000     -4.931000      0.103000   \n",
      "max        0.975000      1.000000     11.000000      0.920000      0.964000   \n",
      "\n",
      "       Acousticness  Instrumentalness      Liveness       Valence  \\\n",
      "count  20716.000000      20716.000000  20716.000000  20716.000000   \n",
      "mean       0.291535          0.055962      0.193521      0.529853   \n",
      "std        0.286299          0.193262      0.168531      0.245441   \n",
      "min        0.000001          0.000000      0.014500      0.000000   \n",
      "25%        0.045200          0.000000      0.094100      0.339000   \n",
      "50%        0.193000          0.000002      0.125000      0.537000   \n",
      "75%        0.477250          0.000463      0.237000      0.726250   \n",
      "max        0.996000          1.000000      1.000000      0.993000   \n",
      "\n",
      "              Tempo   Duration_ms         Views         Likes      Comments  \\\n",
      "count  20716.000000  2.071600e+04  2.024800e+04  2.017700e+04  2.014900e+04   \n",
      "mean     120.638340  2.247176e+05  9.393782e+07  6.633411e+05  2.751899e+04   \n",
      "std       29.579018  1.247905e+05  2.746443e+08  1.789324e+06  1.932347e+05   \n",
      "min        0.000000  3.098500e+04  0.000000e+00  0.000000e+00  0.000000e+00   \n",
      "25%       97.002000  1.800095e+05  1.826002e+06  2.158100e+04  5.090000e+02   \n",
      "50%      119.965000  2.132845e+05  1.450110e+07  1.244810e+05  3.277000e+03   \n",
      "75%      139.935000  2.524430e+05  7.039975e+07  5.221480e+05  1.436000e+04   \n",
      "max      243.372000  4.676058e+06  8.079649e+09  5.078865e+07  1.608314e+07   \n",
      "\n",
      "             Stream  \n",
      "count  2.014200e+04  \n",
      "mean   1.359422e+08  \n",
      "std    2.441321e+08  \n",
      "min    6.574000e+03  \n",
      "25%    1.767486e+07  \n",
      "50%    4.968298e+07  \n",
      "75%    1.383581e+08  \n",
      "max    3.386520e+09  \n"
     ]
    }
   ],
   "source": [
    "print(df.describe())"
   ],
   "metadata": {
    "collapsed": false,
    "ExecuteTime": {
     "end_time": "2024-01-19T14:00:45.912721Z",
     "start_time": "2024-01-19T14:00:45.816471Z"
    }
   },
   "id": "9f0ba02ad10b38ed"
  },
  {
   "cell_type": "code",
   "execution_count": 6,
   "outputs": [
    {
     "data": {
      "text/plain": "Artist                0\nUrl_spotify           0\nTrack                 0\nAlbum                 0\nAlbum_type            0\nUri                   0\nDanceability          0\nEnergy                0\nKey                   0\nLoudness              0\nSpeechiness           0\nAcousticness          0\nInstrumentalness      0\nLiveness              0\nValence               0\nTempo                 0\nDuration_ms           0\nUrl_youtube         470\nTitle               470\nChannel             470\nViews                 0\nLikes                 0\nComments              0\nDescription         876\nLicensed            470\nofficial_video      470\nStream                0\ndtype: int64"
     },
     "execution_count": 6,
     "metadata": {},
     "output_type": "execute_result"
    }
   ],
   "source": [
    "# Handling missing values(fill with mean)\n",
    "df.fillna(df.mean(numeric_only=True), inplace=True)\n",
    "\n",
    "#Check number of null values\n",
    "df.isnull().sum()"
   ],
   "metadata": {
    "collapsed": false,
    "ExecuteTime": {
     "end_time": "2024-01-19T14:00:45.986212Z",
     "start_time": "2024-01-19T14:00:45.853141Z"
    }
   },
   "id": "d5cb575660e831b7"
  },
  {
   "cell_type": "code",
   "execution_count": 7,
   "outputs": [
    {
     "name": "stdout",
     "output_type": "stream",
     "text": [
      "[LightGBM] [Info] Auto-choosing row-wise multi-threading, the overhead of testing was 0.001106 seconds.\n",
      "You can set `force_row_wise=true` to remove the overhead.\n",
      "And if memory is not enough, you can set `force_col_wise=true`.\n",
      "[LightGBM] [Info] Total Bins 5635\n",
      "[LightGBM] [Info] Number of data points in the train set: 16574, number of used features: 26\n",
      "[LightGBM] [Info] Start training from score 94293782.244298\n",
      "\n",
      "\n",
      "\n",
      "LightGBM:\n",
      "MAE: 31058726.478229642\n",
      "MSE: 1.1835968473116102e+16\n",
      "R-squared: 0.8444874583419679\n",
      "------\n",
      "XGBoost:\n",
      "MAE: 29374092.933929443\n",
      "MSE: 9342679836589874.0\n",
      "R-squared: 0.877246725471986\n",
      "------\n",
      "CatBoost:\n",
      "MAE: 28376951.281372547\n",
      "MSE: 8044664020216955.0\n",
      "R-squared: 0.8943013280737903\n"
     ]
    }
   ],
   "source": [
    "# Encoding categorical variables if necessary\n",
    "label_encoders = {}\n",
    "for column in df.select_dtypes(include=['object']).columns:\n",
    "    label_encoders[column] = LabelEncoder()\n",
    "    df[column] = label_encoders[column].fit_transform(df[column])\n",
    "\n",
    "# Feature Scaling\n",
    "scaler = StandardScaler()\n",
    "scaled_features = scaler.fit_transform(df.drop('Views', axis=1))\n",
    "\n",
    "# Splitting the dataset\n",
    "X_train, X_test, y_train, y_test = train_test_split(scaled_features, df['Views'], test_size=0.2, random_state=42)\n",
    "\n",
    "# Initialize the regressors\n",
    "lgbm = LGBMRegressor()\n",
    "xgb = XGBRegressor()\n",
    "catboost = CatBoostRegressor(verbose=0)  # 'verbose=0' to prevent a lot of output\n",
    "\n",
    "# Fit the models\n",
    "lgbm.fit(X_train, y_train)\n",
    "xgb.fit(X_train, y_train)\n",
    "catboost.fit(X_train, y_train)\n",
    "\n",
    "# Make predictions\n",
    "predictions_lgbm = lgbm.predict(X_test)\n",
    "predictions_xgb = xgb.predict(X_test)\n",
    "predictions_catboost = catboost.predict(X_test)\n",
    "\n",
    "# Evaluate the models\n",
    "mae_lgbm = mean_absolute_error(y_test, predictions_lgbm)\n",
    "mse_lgbm = mean_squared_error(y_test, predictions_lgbm)\n",
    "r2_lgbm = r2_score(y_test, predictions_lgbm)\n",
    "\n",
    "mae_xgb = mean_absolute_error(y_test, predictions_xgb)\n",
    "mse_xgb = mean_squared_error(y_test, predictions_xgb)\n",
    "r2_xgb = r2_score(y_test, predictions_xgb)\n",
    "\n",
    "mae_catboost = mean_absolute_error(y_test, predictions_catboost)\n",
    "mse_catboost = mean_squared_error(y_test, predictions_catboost)\n",
    "r2_catboost = r2_score(y_test, predictions_catboost)\n",
    "\n",
    "print('\\n\\n')\n",
    "print('LightGBM:')\n",
    "print(f'MAE: {mae_lgbm}')\n",
    "print(f'MSE: {mse_lgbm}')\n",
    "print(f'R-squared: {r2_lgbm}')\n",
    "print('------')\n",
    "print('XGBoost:')\n",
    "print(f'MAE: {mae_xgb}')\n",
    "print(f'MSE: {mse_xgb}')\n",
    "print(f'R-squared: {r2_xgb}')\n",
    "print('------')\n",
    "print('CatBoost:')\n",
    "print(f'MAE: {mae_catboost}')\n",
    "print(f'MSE: {mse_catboost}')\n",
    "print(f'R-squared: {r2_catboost}')"
   ],
   "metadata": {
    "collapsed": false,
    "ExecuteTime": {
     "end_time": "2024-01-19T14:00:49.194702Z",
     "start_time": "2024-01-19T14:00:45.877780Z"
    }
   },
   "id": "fbc0e2695452c70f"
  }
 ],
 "metadata": {
  "kernelspec": {
   "display_name": "Python 3 (ipykernel)",
   "language": "python",
   "name": "python3"
  },
  "language_info": {
   "codemirror_mode": {
    "name": "ipython",
    "version": 3
   },
   "file_extension": ".py",
   "mimetype": "text/x-python",
   "name": "python",
   "nbconvert_exporter": "python",
   "pygments_lexer": "ipython3",
   "version": "3.10.4"
  }
 },
 "nbformat": 4,
 "nbformat_minor": 5
}
