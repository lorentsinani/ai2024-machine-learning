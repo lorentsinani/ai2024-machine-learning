{
 "cells": [
  {
   "cell_type": "code",
   "execution_count": 1,
   "metadata": {
    "ExecuteTime": {
     "end_time": "2024-01-19T13:57:13.504320Z",
     "start_time": "2024-01-19T13:57:12.525585Z"
    }
   },
   "outputs": [],
   "source": [
    "import pandas as pd\n",
    "from sklearn.model_selection import train_test_split\n",
    "from sklearn.preprocessing import StandardScaler, LabelEncoder\n",
    "from lightgbm import LGBMRegressor\n",
    "from xgboost import XGBRegressor\n",
    "from catboost import CatBoostRegressor\n",
    "from sklearn.metrics import mean_absolute_error, mean_squared_error, r2_score\n",
    "\n",
    "# Load the dataset\n",
    "dataset = pd.read_csv('data/board_games.csv')"
   ]
  },
  {
   "cell_type": "code",
   "execution_count": 2,
   "outputs": [
    {
     "data": {
      "text/plain": "   game_id                                        description  \\\n0        1  Die Macher is a game about seven sequential po...   \n1        2  Dragonmaster is a trick-taking card game based...   \n2        3  Part of the Knizia tile-laying trilogy, Samura...   \n3        4  When you see the triangular box and the luxuri...   \n4        5  In Acquire, each player strategically invests ...   \n\n                                          image  max_players  max_playtime  \\\n0   //cf.geekdo-images.com/images/pic159509.jpg            5           240   \n1   //cf.geekdo-images.com/images/pic184174.jpg            4            30   \n2  //cf.geekdo-images.com/images/pic3211873.jpg            4            60   \n3   //cf.geekdo-images.com/images/pic285299.jpg            4            60   \n4   //cf.geekdo-images.com/images/pic342163.jpg            6            90   \n\n   min_age  min_players  min_playtime            name  playing_time  ...  \\\n0       14            3           240      Die Macher           240  ...   \n1       12            3            30    Dragonmaster            30  ...   \n2       10            2            30         Samurai            60  ...   \n3       12            2            60  Tal der Könige            60  ...   \n4       12            3            90         Acquire            90  ...   \n\n                        artist                        category compilation  \\\n0          Marcus Gschwendtner  Economic,Negotiation,Political         NaN   \n1                   Bob Pepper               Card Game,Fantasy         NaN   \n2              Franz Vohwinkel      Abstract Strategy,Medieval         NaN   \n3                          NaN                         Ancient         NaN   \n4  Scott Okumura,Peter Whitley                        Economic         NaN   \n\n                designer expansion  \\\n0     Karl-Heinz Schmiel       NaN   \n1  G. W. \"Jerry\" D'Arcey       NaN   \n2          Reiner Knizia       NaN   \n3      Christian Beierer       NaN   \n4            Sid Sackson       NaN   \n\n                                              family  \\\n0         Country: Germany,Valley Games Classic Line   \n1                                   Animals: Dragons   \n2  Asian Theme,Country: Japan,Knizia tile-laying ...   \n3             Country: Egypt,Promotional Board Games   \n4                                3M Bookshelf Series   \n\n                                            mechanic  \\\n0  Area Control / Area Influence,Auction/Bidding,...   \n1                                       Trick-taking   \n2  Area Control / Area Influence,Hand Management,...   \n3  Action Point Allowance System,Area Control / A...   \n4       Hand Management,Stock Holding,Tile Placement   \n\n                                           publisher average_rating  \\\n0  Hans im Glück Verlags-GmbH,Moskito Spiele,Vall...        7.66508   \n1                           E.S. Lowe,Milton Bradley        6.60815   \n2  999 Games,ABACUSSPIELE,Astrel Games,Ceilikan J...        7.44119   \n3                                             KOSMOS        6.60675   \n4  3M,Avalon Hill,Avalon Hill (Hasbro),Dujardin,G...        7.35830   \n\n  users_rated  \n0        4498  \n1         478  \n2       12019  \n3         314  \n4       15195  \n\n[5 rows x 22 columns]",
      "text/html": "<div>\n<style scoped>\n    .dataframe tbody tr th:only-of-type {\n        vertical-align: middle;\n    }\n\n    .dataframe tbody tr th {\n        vertical-align: top;\n    }\n\n    .dataframe thead th {\n        text-align: right;\n    }\n</style>\n<table border=\"1\" class=\"dataframe\">\n  <thead>\n    <tr style=\"text-align: right;\">\n      <th></th>\n      <th>game_id</th>\n      <th>description</th>\n      <th>image</th>\n      <th>max_players</th>\n      <th>max_playtime</th>\n      <th>min_age</th>\n      <th>min_players</th>\n      <th>min_playtime</th>\n      <th>name</th>\n      <th>playing_time</th>\n      <th>...</th>\n      <th>artist</th>\n      <th>category</th>\n      <th>compilation</th>\n      <th>designer</th>\n      <th>expansion</th>\n      <th>family</th>\n      <th>mechanic</th>\n      <th>publisher</th>\n      <th>average_rating</th>\n      <th>users_rated</th>\n    </tr>\n  </thead>\n  <tbody>\n    <tr>\n      <th>0</th>\n      <td>1</td>\n      <td>Die Macher is a game about seven sequential po...</td>\n      <td>//cf.geekdo-images.com/images/pic159509.jpg</td>\n      <td>5</td>\n      <td>240</td>\n      <td>14</td>\n      <td>3</td>\n      <td>240</td>\n      <td>Die Macher</td>\n      <td>240</td>\n      <td>...</td>\n      <td>Marcus Gschwendtner</td>\n      <td>Economic,Negotiation,Political</td>\n      <td>NaN</td>\n      <td>Karl-Heinz Schmiel</td>\n      <td>NaN</td>\n      <td>Country: Germany,Valley Games Classic Line</td>\n      <td>Area Control / Area Influence,Auction/Bidding,...</td>\n      <td>Hans im Glück Verlags-GmbH,Moskito Spiele,Vall...</td>\n      <td>7.66508</td>\n      <td>4498</td>\n    </tr>\n    <tr>\n      <th>1</th>\n      <td>2</td>\n      <td>Dragonmaster is a trick-taking card game based...</td>\n      <td>//cf.geekdo-images.com/images/pic184174.jpg</td>\n      <td>4</td>\n      <td>30</td>\n      <td>12</td>\n      <td>3</td>\n      <td>30</td>\n      <td>Dragonmaster</td>\n      <td>30</td>\n      <td>...</td>\n      <td>Bob Pepper</td>\n      <td>Card Game,Fantasy</td>\n      <td>NaN</td>\n      <td>G. W. \"Jerry\" D'Arcey</td>\n      <td>NaN</td>\n      <td>Animals: Dragons</td>\n      <td>Trick-taking</td>\n      <td>E.S. Lowe,Milton Bradley</td>\n      <td>6.60815</td>\n      <td>478</td>\n    </tr>\n    <tr>\n      <th>2</th>\n      <td>3</td>\n      <td>Part of the Knizia tile-laying trilogy, Samura...</td>\n      <td>//cf.geekdo-images.com/images/pic3211873.jpg</td>\n      <td>4</td>\n      <td>60</td>\n      <td>10</td>\n      <td>2</td>\n      <td>30</td>\n      <td>Samurai</td>\n      <td>60</td>\n      <td>...</td>\n      <td>Franz Vohwinkel</td>\n      <td>Abstract Strategy,Medieval</td>\n      <td>NaN</td>\n      <td>Reiner Knizia</td>\n      <td>NaN</td>\n      <td>Asian Theme,Country: Japan,Knizia tile-laying ...</td>\n      <td>Area Control / Area Influence,Hand Management,...</td>\n      <td>999 Games,ABACUSSPIELE,Astrel Games,Ceilikan J...</td>\n      <td>7.44119</td>\n      <td>12019</td>\n    </tr>\n    <tr>\n      <th>3</th>\n      <td>4</td>\n      <td>When you see the triangular box and the luxuri...</td>\n      <td>//cf.geekdo-images.com/images/pic285299.jpg</td>\n      <td>4</td>\n      <td>60</td>\n      <td>12</td>\n      <td>2</td>\n      <td>60</td>\n      <td>Tal der Könige</td>\n      <td>60</td>\n      <td>...</td>\n      <td>NaN</td>\n      <td>Ancient</td>\n      <td>NaN</td>\n      <td>Christian Beierer</td>\n      <td>NaN</td>\n      <td>Country: Egypt,Promotional Board Games</td>\n      <td>Action Point Allowance System,Area Control / A...</td>\n      <td>KOSMOS</td>\n      <td>6.60675</td>\n      <td>314</td>\n    </tr>\n    <tr>\n      <th>4</th>\n      <td>5</td>\n      <td>In Acquire, each player strategically invests ...</td>\n      <td>//cf.geekdo-images.com/images/pic342163.jpg</td>\n      <td>6</td>\n      <td>90</td>\n      <td>12</td>\n      <td>3</td>\n      <td>90</td>\n      <td>Acquire</td>\n      <td>90</td>\n      <td>...</td>\n      <td>Scott Okumura,Peter Whitley</td>\n      <td>Economic</td>\n      <td>NaN</td>\n      <td>Sid Sackson</td>\n      <td>NaN</td>\n      <td>3M Bookshelf Series</td>\n      <td>Hand Management,Stock Holding,Tile Placement</td>\n      <td>3M,Avalon Hill,Avalon Hill (Hasbro),Dujardin,G...</td>\n      <td>7.35830</td>\n      <td>15195</td>\n    </tr>\n  </tbody>\n</table>\n<p>5 rows × 22 columns</p>\n</div>"
     },
     "execution_count": 2,
     "metadata": {},
     "output_type": "execute_result"
    }
   ],
   "source": [
    "# Top rows of the dataset \n",
    "dataset.head()"
   ],
   "metadata": {
    "collapsed": false,
    "ExecuteTime": {
     "end_time": "2024-01-19T13:57:13.517522Z",
     "start_time": "2024-01-19T13:57:13.507063Z"
    }
   }
  },
  {
   "cell_type": "code",
   "execution_count": 3,
   "outputs": [
    {
     "name": "stdout",
     "output_type": "stream",
     "text": [
      "<class 'pandas.core.frame.DataFrame'>\n",
      "RangeIndex: 10532 entries, 0 to 10531\n",
      "Data columns (total 22 columns):\n",
      " #   Column          Non-Null Count  Dtype  \n",
      "---  ------          --------------  -----  \n",
      " 0   game_id         10532 non-null  int64  \n",
      " 1   description     10532 non-null  object \n",
      " 2   image           10531 non-null  object \n",
      " 3   max_players     10532 non-null  int64  \n",
      " 4   max_playtime    10532 non-null  int64  \n",
      " 5   min_age         10532 non-null  int64  \n",
      " 6   min_players     10532 non-null  int64  \n",
      " 7   min_playtime    10532 non-null  int64  \n",
      " 8   name            10532 non-null  object \n",
      " 9   playing_time    10532 non-null  int64  \n",
      " 10  thumbnail       10531 non-null  object \n",
      " 11  year_published  10532 non-null  int64  \n",
      " 12  artist          7759 non-null   object \n",
      " 13  category        10438 non-null  object \n",
      " 14  compilation     410 non-null    object \n",
      " 15  designer        10406 non-null  object \n",
      " 16  expansion       2752 non-null   object \n",
      " 17  family          7724 non-null   object \n",
      " 18  mechanic        9582 non-null   object \n",
      " 19  publisher       10529 non-null  object \n",
      " 20  average_rating  10532 non-null  float64\n",
      " 21  users_rated     10532 non-null  int64  \n",
      "dtypes: float64(1), int64(9), object(12)\n",
      "memory usage: 1.8+ MB\n"
     ]
    }
   ],
   "source": [
    "# Data types\n",
    "dataset.info()"
   ],
   "metadata": {
    "collapsed": false,
    "ExecuteTime": {
     "end_time": "2024-01-19T13:57:13.537797Z",
     "start_time": "2024-01-19T13:57:13.519239Z"
    }
   }
  },
  {
   "cell_type": "code",
   "execution_count": 4,
   "outputs": [
    {
     "name": "stdout",
     "output_type": "stream",
     "text": [
      "game_id             int64\n",
      "description        object\n",
      "image              object\n",
      "max_players         int64\n",
      "max_playtime        int64\n",
      "min_age             int64\n",
      "min_players         int64\n",
      "min_playtime        int64\n",
      "name               object\n",
      "playing_time        int64\n",
      "thumbnail          object\n",
      "year_published      int64\n",
      "artist             object\n",
      "category           object\n",
      "compilation        object\n",
      "designer           object\n",
      "expansion          object\n",
      "family             object\n",
      "mechanic           object\n",
      "publisher          object\n",
      "average_rating    float64\n",
      "users_rated         int64\n",
      "dtype: object\n"
     ]
    }
   ],
   "source": [
    "print(dataset.dtypes)"
   ],
   "metadata": {
    "collapsed": false,
    "ExecuteTime": {
     "end_time": "2024-01-19T13:57:13.538057Z",
     "start_time": "2024-01-19T13:57:13.526311Z"
    }
   }
  },
  {
   "cell_type": "code",
   "execution_count": 5,
   "outputs": [
    {
     "name": "stdout",
     "output_type": "stream",
     "text": [
      "             game_id   max_players  max_playtime       min_age   min_players  \\\n",
      "count   10532.000000  10532.000000  10532.000000  10532.000000  10532.000000   \n",
      "mean    62059.203095      5.657330     91.341436      9.714964      2.070547   \n",
      "std     66223.716828     18.884403    659.754400      3.451226      0.664394   \n",
      "min         1.000000      0.000000      0.000000      0.000000      0.000000   \n",
      "25%      5444.500000      4.000000     30.000000      8.000000      2.000000   \n",
      "50%     28822.500000      4.000000     45.000000     10.000000      2.000000   \n",
      "75%    126409.500000      6.000000     90.000000     12.000000      2.000000   \n",
      "max    216725.000000    999.000000  60000.000000     42.000000      9.000000   \n",
      "\n",
      "       min_playtime  playing_time  year_published  average_rating  \\\n",
      "count  10532.000000  10532.000000    10532.000000    10532.000000   \n",
      "mean      80.882738     91.341436     2003.070832        6.370856   \n",
      "std      637.873893    659.754400       12.278296        0.850364   \n",
      "min        0.000000      0.000000     1950.000000        1.384210   \n",
      "25%       25.000000     30.000000     1998.000000        5.829585   \n",
      "50%       45.000000     45.000000     2007.000000        6.392965   \n",
      "75%       90.000000     90.000000     2012.000000        6.942675   \n",
      "max    60000.000000  60000.000000     2016.000000        9.003920   \n",
      "\n",
      "        users_rated  \n",
      "count  10532.000000  \n",
      "mean     870.081466  \n",
      "std     2880.214998  \n",
      "min       50.000000  \n",
      "25%       85.000000  \n",
      "50%      176.000000  \n",
      "75%      518.000000  \n",
      "max    67655.000000  \n"
     ]
    }
   ],
   "source": [
    "print(dataset.describe())"
   ],
   "metadata": {
    "collapsed": false,
    "ExecuteTime": {
     "end_time": "2024-01-19T13:57:13.583027Z",
     "start_time": "2024-01-19T13:57:13.530246Z"
    }
   }
  },
  {
   "cell_type": "code",
   "execution_count": 6,
   "outputs": [
    {
     "data": {
      "text/plain": "game_id               0\ndescription           0\nimage                 1\nmax_players           0\nmax_playtime          0\nmin_age               0\nmin_players           0\nmin_playtime          0\nname                  0\nplaying_time          0\nthumbnail             1\nyear_published        0\nartist             2773\ncategory             94\ncompilation       10122\ndesigner            126\nexpansion          7780\nfamily             2808\nmechanic            950\npublisher             3\naverage_rating        0\nusers_rated           0\ndtype: int64"
     },
     "execution_count": 6,
     "metadata": {},
     "output_type": "execute_result"
    }
   ],
   "source": [
    "# Handling missing values(fill with mean)\n",
    "dataset.fillna(dataset.mean(numeric_only=True), inplace=True)\n",
    "\n",
    "#Check number of null values\n",
    "dataset.isnull().sum()"
   ],
   "metadata": {
    "collapsed": false,
    "ExecuteTime": {
     "end_time": "2024-01-19T13:57:13.612800Z",
     "start_time": "2024-01-19T13:57:13.542218Z"
    }
   }
  },
  {
   "cell_type": "code",
   "execution_count": 7,
   "outputs": [
    {
     "name": "stdout",
     "output_type": "stream",
     "text": [
      "[LightGBM] [Info] Auto-choosing row-wise multi-threading, the overhead of testing was 0.000796 seconds.\n",
      "You can set `force_row_wise=true` to remove the overhead.\n",
      "And if memory is not enough, you can set `force_col_wise=true`.\n",
      "[LightGBM] [Info] Total Bins 3567\n",
      "[LightGBM] [Info] Number of data points in the train set: 8425, number of used features: 21\n",
      "[LightGBM] [Info] Start training from score 854.795252\n",
      "\n",
      "\n",
      "\n",
      "LightGBM:\n",
      "MAE: 820.4596557661026\n",
      "MSE: 5077811.930874889\n",
      "R-squared: 0.39957234076976567\n",
      "------\n",
      "XGBoost:\n",
      "MAE: 886.557718419214\n",
      "MSE: 5740608.681862965\n",
      "R-squared: 0.3211997056350476\n",
      "------\n",
      "CatBoost:\n",
      "MAE: 822.7151470124151\n",
      "MSE: 5043447.190606735\n",
      "R-squared: 0.4036358115796638\n"
     ]
    }
   ],
   "source": [
    "# Encoding categorical variables if necessary\n",
    "label_encoders = {}\n",
    "for column in dataset.select_dtypes(include=['object']).columns:\n",
    "    label_encoders[column] = LabelEncoder()\n",
    "    dataset[column] = label_encoders[column].fit_transform(dataset[column])\n",
    "\n",
    "# Feature Scaling\n",
    "scaler = StandardScaler()\n",
    "scaled_features = scaler.fit_transform(dataset.drop('users_rated', axis=1))\n",
    "\n",
    "# Splitting the dataset\n",
    "X_train, X_test, y_train, y_test = train_test_split(scaled_features, dataset['users_rated'], test_size=0.2, random_state=42)\n",
    "\n",
    "# Initialize the regressors\n",
    "lgbm = LGBMRegressor()\n",
    "xgb = XGBRegressor()\n",
    "catboost = CatBoostRegressor(verbose=0)  # 'verbose=0' to prevent a lot of output\n",
    "\n",
    "# Fit the models\n",
    "lgbm.fit(X_train, y_train)\n",
    "xgb.fit(X_train, y_train)\n",
    "catboost.fit(X_train, y_train)\n",
    "\n",
    "# Make predictions\n",
    "predictions_lgbm = lgbm.predict(X_test)\n",
    "predictions_xgb = xgb.predict(X_test)\n",
    "predictions_catboost = catboost.predict(X_test)\n",
    "\n",
    "# Evaluate the models\n",
    "mae_lgbm = mean_absolute_error(y_test, predictions_lgbm)\n",
    "mse_lgbm = mean_squared_error(y_test, predictions_lgbm)\n",
    "r2_lgbm = r2_score(y_test, predictions_lgbm)\n",
    "\n",
    "mae_xgb = mean_absolute_error(y_test, predictions_xgb)\n",
    "mse_xgb = mean_squared_error(y_test, predictions_xgb)\n",
    "r2_xgb = r2_score(y_test, predictions_xgb)\n",
    "\n",
    "mae_catboost = mean_absolute_error(y_test, predictions_catboost)\n",
    "mse_catboost = mean_squared_error(y_test, predictions_catboost)\n",
    "r2_catboost = r2_score(y_test, predictions_catboost)\n",
    "\n",
    "print('\\n\\n')\n",
    "print('LightGBM:')\n",
    "print(f'MAE: {mae_lgbm}')\n",
    "print(f'MSE: {mse_lgbm}')\n",
    "print(f'R-squared: {r2_lgbm}')\n",
    "print('------')\n",
    "print('XGBoost:')\n",
    "print(f'MAE: {mae_xgb}')\n",
    "print(f'MSE: {mse_xgb}')\n",
    "print(f'R-squared: {r2_xgb}')\n",
    "print('------')\n",
    "print('CatBoost:')\n",
    "print(f'MAE: {mae_catboost}')\n",
    "print(f'MSE: {mse_catboost}')\n",
    "print(f'R-squared: {r2_catboost}')"
   ],
   "metadata": {
    "collapsed": false,
    "ExecuteTime": {
     "end_time": "2024-01-19T13:57:16.069024Z",
     "start_time": "2024-01-19T13:57:13.550510Z"
    }
   }
  }
 ],
 "metadata": {
  "kernelspec": {
   "display_name": "Python 3 (ipykernel)",
   "language": "python",
   "name": "python3"
  },
  "language_info": {
   "codemirror_mode": {
    "name": "ipython",
    "version": 3
   },
   "file_extension": ".py",
   "mimetype": "text/x-python",
   "name": "python",
   "nbconvert_exporter": "python",
   "pygments_lexer": "ipython3",
   "version": "3.7.0"
  }
 },
 "nbformat": 4,
 "nbformat_minor": 2
}
