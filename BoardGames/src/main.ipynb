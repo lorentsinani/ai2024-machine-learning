{
 "cells": [
  {
   "cell_type": "code",
   "execution_count": 1,
   "metadata": {
    "ExecuteTime": {
     "end_time": "2024-01-19T14:22:14.691727Z",
     "start_time": "2024-01-19T14:22:13.713920Z"
    }
   },
   "outputs": [],
   "source": [
    "import pandas as pd\n",
    "from sklearn.model_selection import train_test_split\n",
    "from sklearn.preprocessing import StandardScaler, LabelEncoder\n",
    "from lightgbm import LGBMRegressor\n",
    "from xgboost import XGBRegressor\n",
    "from catboost import CatBoostRegressor\n",
    "from sklearn.metrics import mean_absolute_error, mean_squared_error, r2_score\n",
    "from scipy.stats import zscore\n",
    "\n",
    "# Load the dataset\n",
    "dataset = pd.read_csv('data/board_games.csv')"
   ]
  },
  {
   "cell_type": "code",
   "execution_count": 2,
   "outputs": [
    {
     "data": {
      "text/plain": "   game_id                                        description  \\\n0        1  Die Macher is a game about seven sequential po...   \n1        2  Dragonmaster is a trick-taking card game based...   \n2        3  Part of the Knizia tile-laying trilogy, Samura...   \n3        4  When you see the triangular box and the luxuri...   \n4        5  In Acquire, each player strategically invests ...   \n\n                                          image  max_players  max_playtime  \\\n0   //cf.geekdo-images.com/images/pic159509.jpg            5           240   \n1   //cf.geekdo-images.com/images/pic184174.jpg            4            30   \n2  //cf.geekdo-images.com/images/pic3211873.jpg            4            60   \n3   //cf.geekdo-images.com/images/pic285299.jpg            4            60   \n4   //cf.geekdo-images.com/images/pic342163.jpg            6            90   \n\n   min_age  min_players  min_playtime            name  playing_time  ...  \\\n0       14            3           240      Die Macher           240  ...   \n1       12            3            30    Dragonmaster            30  ...   \n2       10            2            30         Samurai            60  ...   \n3       12            2            60  Tal der Könige            60  ...   \n4       12            3            90         Acquire            90  ...   \n\n                        artist                        category compilation  \\\n0          Marcus Gschwendtner  Economic,Negotiation,Political         NaN   \n1                   Bob Pepper               Card Game,Fantasy         NaN   \n2              Franz Vohwinkel      Abstract Strategy,Medieval         NaN   \n3                          NaN                         Ancient         NaN   \n4  Scott Okumura,Peter Whitley                        Economic         NaN   \n\n                designer expansion  \\\n0     Karl-Heinz Schmiel       NaN   \n1  G. W. \"Jerry\" D'Arcey       NaN   \n2          Reiner Knizia       NaN   \n3      Christian Beierer       NaN   \n4            Sid Sackson       NaN   \n\n                                              family  \\\n0         Country: Germany,Valley Games Classic Line   \n1                                   Animals: Dragons   \n2  Asian Theme,Country: Japan,Knizia tile-laying ...   \n3             Country: Egypt,Promotional Board Games   \n4                                3M Bookshelf Series   \n\n                                            mechanic  \\\n0  Area Control / Area Influence,Auction/Bidding,...   \n1                                       Trick-taking   \n2  Area Control / Area Influence,Hand Management,...   \n3  Action Point Allowance System,Area Control / A...   \n4       Hand Management,Stock Holding,Tile Placement   \n\n                                           publisher average_rating  \\\n0  Hans im Glück Verlags-GmbH,Moskito Spiele,Vall...        7.66508   \n1                           E.S. Lowe,Milton Bradley        6.60815   \n2  999 Games,ABACUSSPIELE,Astrel Games,Ceilikan J...        7.44119   \n3                                             KOSMOS        6.60675   \n4  3M,Avalon Hill,Avalon Hill (Hasbro),Dujardin,G...        7.35830   \n\n  users_rated  \n0        4498  \n1         478  \n2       12019  \n3         314  \n4       15195  \n\n[5 rows x 22 columns]",
      "text/html": "<div>\n<style scoped>\n    .dataframe tbody tr th:only-of-type {\n        vertical-align: middle;\n    }\n\n    .dataframe tbody tr th {\n        vertical-align: top;\n    }\n\n    .dataframe thead th {\n        text-align: right;\n    }\n</style>\n<table border=\"1\" class=\"dataframe\">\n  <thead>\n    <tr style=\"text-align: right;\">\n      <th></th>\n      <th>game_id</th>\n      <th>description</th>\n      <th>image</th>\n      <th>max_players</th>\n      <th>max_playtime</th>\n      <th>min_age</th>\n      <th>min_players</th>\n      <th>min_playtime</th>\n      <th>name</th>\n      <th>playing_time</th>\n      <th>...</th>\n      <th>artist</th>\n      <th>category</th>\n      <th>compilation</th>\n      <th>designer</th>\n      <th>expansion</th>\n      <th>family</th>\n      <th>mechanic</th>\n      <th>publisher</th>\n      <th>average_rating</th>\n      <th>users_rated</th>\n    </tr>\n  </thead>\n  <tbody>\n    <tr>\n      <th>0</th>\n      <td>1</td>\n      <td>Die Macher is a game about seven sequential po...</td>\n      <td>//cf.geekdo-images.com/images/pic159509.jpg</td>\n      <td>5</td>\n      <td>240</td>\n      <td>14</td>\n      <td>3</td>\n      <td>240</td>\n      <td>Die Macher</td>\n      <td>240</td>\n      <td>...</td>\n      <td>Marcus Gschwendtner</td>\n      <td>Economic,Negotiation,Political</td>\n      <td>NaN</td>\n      <td>Karl-Heinz Schmiel</td>\n      <td>NaN</td>\n      <td>Country: Germany,Valley Games Classic Line</td>\n      <td>Area Control / Area Influence,Auction/Bidding,...</td>\n      <td>Hans im Glück Verlags-GmbH,Moskito Spiele,Vall...</td>\n      <td>7.66508</td>\n      <td>4498</td>\n    </tr>\n    <tr>\n      <th>1</th>\n      <td>2</td>\n      <td>Dragonmaster is a trick-taking card game based...</td>\n      <td>//cf.geekdo-images.com/images/pic184174.jpg</td>\n      <td>4</td>\n      <td>30</td>\n      <td>12</td>\n      <td>3</td>\n      <td>30</td>\n      <td>Dragonmaster</td>\n      <td>30</td>\n      <td>...</td>\n      <td>Bob Pepper</td>\n      <td>Card Game,Fantasy</td>\n      <td>NaN</td>\n      <td>G. W. \"Jerry\" D'Arcey</td>\n      <td>NaN</td>\n      <td>Animals: Dragons</td>\n      <td>Trick-taking</td>\n      <td>E.S. Lowe,Milton Bradley</td>\n      <td>6.60815</td>\n      <td>478</td>\n    </tr>\n    <tr>\n      <th>2</th>\n      <td>3</td>\n      <td>Part of the Knizia tile-laying trilogy, Samura...</td>\n      <td>//cf.geekdo-images.com/images/pic3211873.jpg</td>\n      <td>4</td>\n      <td>60</td>\n      <td>10</td>\n      <td>2</td>\n      <td>30</td>\n      <td>Samurai</td>\n      <td>60</td>\n      <td>...</td>\n      <td>Franz Vohwinkel</td>\n      <td>Abstract Strategy,Medieval</td>\n      <td>NaN</td>\n      <td>Reiner Knizia</td>\n      <td>NaN</td>\n      <td>Asian Theme,Country: Japan,Knizia tile-laying ...</td>\n      <td>Area Control / Area Influence,Hand Management,...</td>\n      <td>999 Games,ABACUSSPIELE,Astrel Games,Ceilikan J...</td>\n      <td>7.44119</td>\n      <td>12019</td>\n    </tr>\n    <tr>\n      <th>3</th>\n      <td>4</td>\n      <td>When you see the triangular box and the luxuri...</td>\n      <td>//cf.geekdo-images.com/images/pic285299.jpg</td>\n      <td>4</td>\n      <td>60</td>\n      <td>12</td>\n      <td>2</td>\n      <td>60</td>\n      <td>Tal der Könige</td>\n      <td>60</td>\n      <td>...</td>\n      <td>NaN</td>\n      <td>Ancient</td>\n      <td>NaN</td>\n      <td>Christian Beierer</td>\n      <td>NaN</td>\n      <td>Country: Egypt,Promotional Board Games</td>\n      <td>Action Point Allowance System,Area Control / A...</td>\n      <td>KOSMOS</td>\n      <td>6.60675</td>\n      <td>314</td>\n    </tr>\n    <tr>\n      <th>4</th>\n      <td>5</td>\n      <td>In Acquire, each player strategically invests ...</td>\n      <td>//cf.geekdo-images.com/images/pic342163.jpg</td>\n      <td>6</td>\n      <td>90</td>\n      <td>12</td>\n      <td>3</td>\n      <td>90</td>\n      <td>Acquire</td>\n      <td>90</td>\n      <td>...</td>\n      <td>Scott Okumura,Peter Whitley</td>\n      <td>Economic</td>\n      <td>NaN</td>\n      <td>Sid Sackson</td>\n      <td>NaN</td>\n      <td>3M Bookshelf Series</td>\n      <td>Hand Management,Stock Holding,Tile Placement</td>\n      <td>3M,Avalon Hill,Avalon Hill (Hasbro),Dujardin,G...</td>\n      <td>7.35830</td>\n      <td>15195</td>\n    </tr>\n  </tbody>\n</table>\n<p>5 rows × 22 columns</p>\n</div>"
     },
     "execution_count": 2,
     "metadata": {},
     "output_type": "execute_result"
    }
   ],
   "source": [
    "# Top rows of the dataset \n",
    "dataset.head()"
   ],
   "metadata": {
    "collapsed": false,
    "ExecuteTime": {
     "end_time": "2024-01-19T14:22:14.705140Z",
     "start_time": "2024-01-19T14:22:14.694492Z"
    }
   }
  },
  {
   "cell_type": "code",
   "execution_count": 3,
   "outputs": [
    {
     "name": "stdout",
     "output_type": "stream",
     "text": [
      "<class 'pandas.core.frame.DataFrame'>\n",
      "RangeIndex: 10532 entries, 0 to 10531\n",
      "Data columns (total 22 columns):\n",
      " #   Column          Non-Null Count  Dtype  \n",
      "---  ------          --------------  -----  \n",
      " 0   game_id         10532 non-null  int64  \n",
      " 1   description     10532 non-null  object \n",
      " 2   image           10531 non-null  object \n",
      " 3   max_players     10532 non-null  int64  \n",
      " 4   max_playtime    10532 non-null  int64  \n",
      " 5   min_age         10532 non-null  int64  \n",
      " 6   min_players     10532 non-null  int64  \n",
      " 7   min_playtime    10532 non-null  int64  \n",
      " 8   name            10532 non-null  object \n",
      " 9   playing_time    10532 non-null  int64  \n",
      " 10  thumbnail       10531 non-null  object \n",
      " 11  year_published  10532 non-null  int64  \n",
      " 12  artist          7759 non-null   object \n",
      " 13  category        10438 non-null  object \n",
      " 14  compilation     410 non-null    object \n",
      " 15  designer        10406 non-null  object \n",
      " 16  expansion       2752 non-null   object \n",
      " 17  family          7724 non-null   object \n",
      " 18  mechanic        9582 non-null   object \n",
      " 19  publisher       10529 non-null  object \n",
      " 20  average_rating  10532 non-null  float64\n",
      " 21  users_rated     10532 non-null  int64  \n",
      "dtypes: float64(1), int64(9), object(12)\n",
      "memory usage: 1.8+ MB\n"
     ]
    }
   ],
   "source": [
    "# Data types\n",
    "dataset.info()"
   ],
   "metadata": {
    "collapsed": false,
    "ExecuteTime": {
     "end_time": "2024-01-19T14:22:14.713953Z",
     "start_time": "2024-01-19T14:22:14.703022Z"
    }
   }
  },
  {
   "cell_type": "code",
   "execution_count": 4,
   "outputs": [
    {
     "name": "stdout",
     "output_type": "stream",
     "text": [
      "game_id             int64\n",
      "description        object\n",
      "image              object\n",
      "max_players         int64\n",
      "max_playtime        int64\n",
      "min_age             int64\n",
      "min_players         int64\n",
      "min_playtime        int64\n",
      "name               object\n",
      "playing_time        int64\n",
      "thumbnail          object\n",
      "year_published      int64\n",
      "artist             object\n",
      "category           object\n",
      "compilation        object\n",
      "designer           object\n",
      "expansion          object\n",
      "family             object\n",
      "mechanic           object\n",
      "publisher          object\n",
      "average_rating    float64\n",
      "users_rated         int64\n",
      "dtype: object\n"
     ]
    }
   ],
   "source": [
    "print(dataset.dtypes)"
   ],
   "metadata": {
    "collapsed": false,
    "ExecuteTime": {
     "end_time": "2024-01-19T14:22:14.726525Z",
     "start_time": "2024-01-19T14:22:14.714603Z"
    }
   }
  },
  {
   "cell_type": "code",
   "execution_count": 5,
   "outputs": [
    {
     "name": "stdout",
     "output_type": "stream",
     "text": [
      "             game_id   max_players  max_playtime       min_age   min_players  \\\n",
      "count   10532.000000  10532.000000  10532.000000  10532.000000  10532.000000   \n",
      "mean    62059.203095      5.657330     91.341436      9.714964      2.070547   \n",
      "std     66223.716828     18.884403    659.754400      3.451226      0.664394   \n",
      "min         1.000000      0.000000      0.000000      0.000000      0.000000   \n",
      "25%      5444.500000      4.000000     30.000000      8.000000      2.000000   \n",
      "50%     28822.500000      4.000000     45.000000     10.000000      2.000000   \n",
      "75%    126409.500000      6.000000     90.000000     12.000000      2.000000   \n",
      "max    216725.000000    999.000000  60000.000000     42.000000      9.000000   \n",
      "\n",
      "       min_playtime  playing_time  year_published  average_rating  \\\n",
      "count  10532.000000  10532.000000    10532.000000    10532.000000   \n",
      "mean      80.882738     91.341436     2003.070832        6.370856   \n",
      "std      637.873893    659.754400       12.278296        0.850364   \n",
      "min        0.000000      0.000000     1950.000000        1.384210   \n",
      "25%       25.000000     30.000000     1998.000000        5.829585   \n",
      "50%       45.000000     45.000000     2007.000000        6.392965   \n",
      "75%       90.000000     90.000000     2012.000000        6.942675   \n",
      "max    60000.000000  60000.000000     2016.000000        9.003920   \n",
      "\n",
      "        users_rated  \n",
      "count  10532.000000  \n",
      "mean     870.081466  \n",
      "std     2880.214998  \n",
      "min       50.000000  \n",
      "25%       85.000000  \n",
      "50%      176.000000  \n",
      "75%      518.000000  \n",
      "max    67655.000000  \n"
     ]
    }
   ],
   "source": [
    "print(dataset.describe())"
   ],
   "metadata": {
    "collapsed": false,
    "ExecuteTime": {
     "end_time": "2024-01-19T14:22:14.759971Z",
     "start_time": "2024-01-19T14:22:14.718367Z"
    }
   }
  },
  {
   "cell_type": "code",
   "execution_count": 6,
   "outputs": [
    {
     "data": {
      "text/plain": "game_id               0\ndescription           0\nimage                 1\nmax_players           0\nmax_playtime          0\nmin_age               0\nmin_players           0\nmin_playtime          0\nname                  0\nplaying_time          0\nthumbnail             1\nyear_published        0\nartist             2773\ncategory             94\ncompilation       10122\ndesigner            126\nexpansion          7780\nfamily             2808\nmechanic            950\npublisher             3\naverage_rating        0\nusers_rated           0\ndtype: int64"
     },
     "execution_count": 6,
     "metadata": {},
     "output_type": "execute_result"
    }
   ],
   "source": [
    "# Handling missing values(fill with mean)\n",
    "dataset.fillna(dataset.mean(numeric_only=True), inplace=True)\n",
    "\n",
    "#Check number of null values\n",
    "dataset.isnull().sum()"
   ],
   "metadata": {
    "collapsed": false,
    "ExecuteTime": {
     "end_time": "2024-01-19T14:22:14.774614Z",
     "start_time": "2024-01-19T14:22:14.730531Z"
    }
   }
  },
  {
   "cell_type": "code",
   "execution_count": 7,
   "outputs": [
    {
     "name": "stdout",
     "output_type": "stream",
     "text": [
      "       game_id                                        description  \\\n",
      "2            3  Part of the Knizia tile-laying trilogy, Samura...   \n",
      "4            5  In Acquire, each player strategically invests ...   \n",
      "10          11  Bohnanza is the first in the Bohnanza family o...   \n",
      "11          12  Ra is an auction and set-collection game with ...   \n",
      "12          13  In Catan (formerly The Settlers of Catan), pla...   \n",
      "...        ...                                                ...   \n",
      "10161   189890  Scrimish is a fast moving card game that pits ...   \n",
      "10194   191543  Micro Robots, a simultaneous play game inspire...   \n",
      "10421   203411  &quot;EAT, YELLOW, CIRCLE &mdash; do you mean ...   \n",
      "10448   204734  You don't want to be stuck with sticks in Stic...   \n",
      "10452   204887  Potions Brew is a card game and the winner of ...   \n",
      "\n",
      "                                              image  max_players  \\\n",
      "2      //cf.geekdo-images.com/images/pic3211873.jpg            4   \n",
      "4       //cf.geekdo-images.com/images/pic342163.jpg            6   \n",
      "10       //cf.geekdo-images.com/images/pic69366.jpg            7   \n",
      "11     //cf.geekdo-images.com/images/pic3013552.jpg            5   \n",
      "12     //cf.geekdo-images.com/images/pic2419375.jpg            4   \n",
      "...                                             ...          ...   \n",
      "10161  //cf.geekdo-images.com/images/pic3518033.jpg          999   \n",
      "10194  //cf.geekdo-images.com/images/pic3276262.png           99   \n",
      "10421  //cf.geekdo-images.com/images/pic3332427.jpg           99   \n",
      "10448  //cf.geekdo-images.com/images/pic3107661.jpg           99   \n",
      "10452  //cf.geekdo-images.com/images/pic3109891.jpg            5   \n",
      "\n",
      "       max_playtime  min_age  min_players  min_playtime                name  \\\n",
      "2                60       10            2            30             Samurai   \n",
      "4                90       12            3            90             Acquire   \n",
      "10               45       13            2            45            Bohnanza   \n",
      "11               60       12            2            45                  Ra   \n",
      "12              120       10            3            60               Catan   \n",
      "...             ...      ...          ...           ...                 ...   \n",
      "10161           100        8            2            10  Scrimish Card Game   \n",
      "10194            20        8            2            20        Micro Robots   \n",
      "10421            45       12            4            45           Word Slam   \n",
      "10448             0        8            2             0         Stick Stack   \n",
      "10452            30        8            3            30        Potions Brew   \n",
      "\n",
      "       playing_time  ...                                             artist  \\\n",
      "2                60  ...                                    Franz Vohwinkel   \n",
      "4                90  ...                        Scott Okumura,Peter Whitley   \n",
      "10               45  ...  Fréderic Bertrand,Marek Bláha,Andrea Boekhoff,...   \n",
      "11               60  ...                      Allison Kline,Franz Vohwinkel   \n",
      "12              120  ...  Volkan Baga,Tanja Donner,Pete Fenlon,Jason Haw...   \n",
      "...             ...  ...                                                ...   \n",
      "10161           100  ...                                                NaN   \n",
      "10194            20  ...                                    Christian Fiore   \n",
      "10421            45  ...                                                NaN   \n",
      "10448             0  ...                                                NaN   \n",
      "10452            30  ...                                      Klemens Franz   \n",
      "\n",
      "                                 category  \\\n",
      "2              Abstract Strategy,Medieval   \n",
      "4                                Economic   \n",
      "10          Card Game,Farming,Negotiation   \n",
      "11                      Ancient,Mythology   \n",
      "12                            Negotiation   \n",
      "...                                   ...   \n",
      "10161                           Card Game   \n",
      "10194  Abstract Strategy,Puzzle,Real-time   \n",
      "10421                Party Game,Word Game   \n",
      "10448                  Action / Dexterity   \n",
      "10452                           Card Game   \n",
      "\n",
      "                                             compilation  \\\n",
      "2                                                    NaN   \n",
      "4                                                    NaN   \n",
      "10                                                   NaN   \n",
      "11                                                   NaN   \n",
      "12     CATAN 3D Collector's Edition,Catan: Big Box,Ca...   \n",
      "...                                                  ...   \n",
      "10161                                                NaN   \n",
      "10194                                                NaN   \n",
      "10421                                                NaN   \n",
      "10448                                                NaN   \n",
      "10452                                                NaN   \n",
      "\n",
      "                                            designer  \\\n",
      "2                                      Reiner Knizia   \n",
      "4                                        Sid Sackson   \n",
      "10                                     Uwe Rosenberg   \n",
      "11                                     Reiner Knizia   \n",
      "12                                      Klaus Teuber   \n",
      "...                                              ...   \n",
      "10161                                Danny Zondervan   \n",
      "10194                              Andreas Kuhnekath   \n",
      "10421                        Inka Brand,Markus Brand   \n",
      "10448  Forrest-Pruzan Creative,Brad Ross,Jim Winslow   \n",
      "10452                                  Andreas Prior   \n",
      "\n",
      "                                               expansion  \\\n",
      "2                                                    NaN   \n",
      "4                                                    NaN   \n",
      "10     Auf der schwäb'schen Eisenbohn,Bohn Camillo,Bo...   \n",
      "11                                                   NaN   \n",
      "12     20 Jahre Darmstadt Spielt,Brettspiel Adventska...   \n",
      "...                                                  ...   \n",
      "10161                                                NaN   \n",
      "10194                                                NaN   \n",
      "10421                                                NaN   \n",
      "10448                                                NaN   \n",
      "10452                                                NaN   \n",
      "\n",
      "                                                  family  \\\n",
      "2      Asian Theme,Country: Japan,Knizia tile-laying ...   \n",
      "4                                    3M Bookshelf Series   \n",
      "10                           Bohnanza,Lookout Bean Games   \n",
      "11                        Alea Big Box,Country: Egypt,Ra   \n",
      "12                         Catan,Promotional Board Games   \n",
      "...                                                  ...   \n",
      "10161                                                NaN   \n",
      "10194                                                NaN   \n",
      "10421                                                NaN   \n",
      "10448                                                NaN   \n",
      "10452                                                NaN   \n",
      "\n",
      "                                                mechanic  \\\n",
      "2      Area Control / Area Influence,Hand Management,...   \n",
      "4           Hand Management,Stock Holding,Tile Placement   \n",
      "10                Hand Management,Set Collection,Trading   \n",
      "11        Auction/Bidding,Press Your Luck,Set Collection   \n",
      "12     Dice Rolling,Hand Management,Modular Board,Rou...   \n",
      "...                                                  ...   \n",
      "10161                                             Memory   \n",
      "10194           Dice Rolling,Grid Movement,Modular Board   \n",
      "10421                                                NaN   \n",
      "10448                                   Pattern Building   \n",
      "10452                                     Set Collection   \n",
      "\n",
      "                                               publisher average_rating  \\\n",
      "2      999 Games,ABACUSSPIELE,Astrel Games,Ceilikan J...        7.44119   \n",
      "4      3M,Avalon Hill,Avalon Hill (Hasbro),Dujardin,G...        7.35830   \n",
      "10     AMIGO Spiel + Freizeit GmbH,999 Games,Brain Ga...        7.06751   \n",
      "11     alea,Ravensburger Spieleverlag GmbH,999 Games,...        7.47505   \n",
      "12     KOSMOS,999 Games,Albi,Astrel Games,Bergsala En...        7.26569   \n",
      "...                                                  ...            ...   \n",
      "10161                                         Nexci, LLC        6.13548   \n",
      "10194  ABACUSSPIELE,Devir,Oya,Swan Panasia Co., Ltd.,...        6.37106   \n",
      "10421                                             KOSMOS        7.19273   \n",
      "10448        Broadway Toys LTD,Mandoo Games,Wonder Forge        7.19661   \n",
      "10452                Österreichisches Spiele Museum e.V.        3.63131   \n",
      "\n",
      "      users_rated  \n",
      "2           12019  \n",
      "4           15195  \n",
      "10          28354  \n",
      "11          15378  \n",
      "12          67655  \n",
      "...           ...  \n",
      "10161          93  \n",
      "10194         232  \n",
      "10421          55  \n",
      "10448          59  \n",
      "10452          84  \n",
      "\n",
      "[533 rows x 22 columns]\n"
     ]
    }
   ],
   "source": [
    "# Identify outliers in numerical columns using z-score\n",
    "# Selecting features for outlier detection\n",
    "numerical_cols = ['max_players', 'max_playtime', 'min_age', 'min_players', 'min_playtime', 'playing_time', 'year_published', 'average_rating', 'users_rated']\n",
    "z_scores = zscore(dataset[numerical_cols])\n",
    "outliers = (abs(z_scores) > 3).any(axis=1)\n",
    "\n",
    "# Display outlier rows\n",
    "outlier_rows = dataset[outliers]\n",
    "print(outlier_rows)"
   ],
   "metadata": {
    "collapsed": false,
    "ExecuteTime": {
     "end_time": "2024-01-19T14:22:14.800746Z",
     "start_time": "2024-01-19T14:22:14.739890Z"
    }
   }
  },
  {
   "cell_type": "code",
   "execution_count": 8,
   "outputs": [
    {
     "name": "stdout",
     "output_type": "stream",
     "text": [
      "<class 'pandas.core.frame.DataFrame'>\n",
      "Index: 9999 entries, 0 to 10531\n",
      "Data columns (total 22 columns):\n",
      " #   Column          Non-Null Count  Dtype  \n",
      "---  ------          --------------  -----  \n",
      " 0   game_id         9999 non-null   int64  \n",
      " 1   description     9999 non-null   object \n",
      " 2   image           9998 non-null   object \n",
      " 3   max_players     9999 non-null   int64  \n",
      " 4   max_playtime    9999 non-null   int64  \n",
      " 5   min_age         9999 non-null   int64  \n",
      " 6   min_players     9999 non-null   int64  \n",
      " 7   min_playtime    9999 non-null   int64  \n",
      " 8   name            9999 non-null   object \n",
      " 9   playing_time    9999 non-null   int64  \n",
      " 10  thumbnail       9998 non-null   object \n",
      " 11  year_published  9999 non-null   int64  \n",
      " 12  artist          7409 non-null   object \n",
      " 13  category        9909 non-null   object \n",
      " 14  compilation     355 non-null    object \n",
      " 15  designer        9885 non-null   object \n",
      " 16  expansion       2529 non-null   object \n",
      " 17  family          7319 non-null   object \n",
      " 18  mechanic        9117 non-null   object \n",
      " 19  publisher       9996 non-null   object \n",
      " 20  average_rating  9999 non-null   float64\n",
      " 21  users_rated     9999 non-null   int64  \n",
      "dtypes: float64(1), int64(9), object(12)\n",
      "memory usage: 1.8+ MB\n"
     ]
    }
   ],
   "source": [
    "# Remove outlier rows\n",
    "dataset.drop(dataset[outliers].index, inplace=True)\n",
    "\n",
    "dataset.info()"
   ],
   "metadata": {
    "collapsed": false,
    "ExecuteTime": {
     "end_time": "2024-01-19T14:22:14.824675Z",
     "start_time": "2024-01-19T14:22:14.748119Z"
    }
   }
  },
  {
   "cell_type": "code",
   "execution_count": 9,
   "outputs": [
    {
     "name": "stdout",
     "output_type": "stream",
     "text": [
      "[LightGBM] [Info] Auto-choosing row-wise multi-threading, the overhead of testing was 0.000776 seconds.\n",
      "You can set `force_row_wise=true` to remove the overhead.\n",
      "And if memory is not enough, you can set `force_col_wise=true`.\n",
      "[LightGBM] [Info] Total Bins 3536\n",
      "[LightGBM] [Info] Number of data points in the train set: 7999, number of used features: 21\n",
      "[LightGBM] [Info] Start training from score 578.664083\n",
      "\n",
      "\n",
      "\n",
      "LightGBM:\n",
      "MAE: 463.3213493303833\n",
      "MSE: 890760.2767390392\n",
      "R-squared: 0.38007992481361375\n",
      "------\n",
      "XGBoost:\n",
      "MAE: 514.889936144948\n",
      "MSE: 988092.072592787\n",
      "R-squared: 0.31234235750249506\n",
      "------\n",
      "CatBoost:\n",
      "MAE: 475.97177002039626\n",
      "MSE: 886659.4215694714\n",
      "R-squared: 0.3829338940704756\n"
     ]
    }
   ],
   "source": [
    "# Encoding categorical variables if necessary\n",
    "label_encoders = {}\n",
    "for column in dataset.select_dtypes(include=['object']).columns:\n",
    "    label_encoders[column] = LabelEncoder()\n",
    "    dataset[column] = label_encoders[column].fit_transform(dataset[column])\n",
    "\n",
    "# Feature Scaling\n",
    "scaler = StandardScaler()\n",
    "scaled_features = scaler.fit_transform(dataset.drop('users_rated', axis=1))\n",
    "\n",
    "# Splitting the dataset\n",
    "X_train, X_test, y_train, y_test = train_test_split(scaled_features, dataset['users_rated'], test_size=0.2, random_state=42)\n",
    "\n",
    "# Initialize the regressors\n",
    "lgbm = LGBMRegressor()\n",
    "xgb = XGBRegressor()\n",
    "catboost = CatBoostRegressor(verbose=0)  # 'verbose=0' to prevent a lot of output\n",
    "\n",
    "# Fit the models\n",
    "lgbm.fit(X_train, y_train)\n",
    "xgb.fit(X_train, y_train)\n",
    "catboost.fit(X_train, y_train)\n",
    "\n",
    "# Make predictions\n",
    "predictions_lgbm = lgbm.predict(X_test)\n",
    "predictions_xgb = xgb.predict(X_test)\n",
    "predictions_catboost = catboost.predict(X_test)\n",
    "\n",
    "# Evaluate the models\n",
    "mae_lgbm = mean_absolute_error(y_test, predictions_lgbm)\n",
    "mse_lgbm = mean_squared_error(y_test, predictions_lgbm)\n",
    "r2_lgbm = r2_score(y_test, predictions_lgbm)\n",
    "\n",
    "mae_xgb = mean_absolute_error(y_test, predictions_xgb)\n",
    "mse_xgb = mean_squared_error(y_test, predictions_xgb)\n",
    "r2_xgb = r2_score(y_test, predictions_xgb)\n",
    "\n",
    "mae_catboost = mean_absolute_error(y_test, predictions_catboost)\n",
    "mse_catboost = mean_squared_error(y_test, predictions_catboost)\n",
    "r2_catboost = r2_score(y_test, predictions_catboost)\n",
    "\n",
    "print('\\n\\n')\n",
    "print('LightGBM:')\n",
    "print(f'MAE: {mae_lgbm}')\n",
    "print(f'MSE: {mse_lgbm}')\n",
    "print(f'R-squared: {r2_lgbm}')\n",
    "print('------')\n",
    "print('XGBoost:')\n",
    "print(f'MAE: {mae_xgb}')\n",
    "print(f'MSE: {mse_xgb}')\n",
    "print(f'R-squared: {r2_xgb}')\n",
    "print('------')\n",
    "print('CatBoost:')\n",
    "print(f'MAE: {mae_catboost}')\n",
    "print(f'MSE: {mse_catboost}')\n",
    "print(f'R-squared: {r2_catboost}')"
   ],
   "metadata": {
    "collapsed": false,
    "ExecuteTime": {
     "end_time": "2024-01-19T14:22:17.214034Z",
     "start_time": "2024-01-19T14:22:14.761406Z"
    }
   }
  }
 ],
 "metadata": {
  "kernelspec": {
   "display_name": "Python 3 (ipykernel)",
   "language": "python",
   "name": "python3"
  },
  "language_info": {
   "codemirror_mode": {
    "name": "ipython",
    "version": 3
   },
   "file_extension": ".py",
   "mimetype": "text/x-python",
   "name": "python",
   "nbconvert_exporter": "python",
   "pygments_lexer": "ipython3",
   "version": "3.7.0"
  }
 },
 "nbformat": 4,
 "nbformat_minor": 2
}
